{
 "cells": [
  {
   "cell_type": "code",
   "execution_count": 6,
   "id": "ffa9f480-a7c0-49ab-b2bc-dce4ceb1b6ed",
   "metadata": {},
   "outputs": [],
   "source": [
    "import matplotlib.pyplot as plt\n",
    "import numpy as np\n",
    "\n",
    "# Load the data from files\n",
    "dmod1 = np.loadtxt('diff_com_200_7.txt')\n",
    "dmod2 = np.loadtxt('diff_com_400_7.txt')\n",
    "dmod3 = np.loadtxt('diff_com_600_7.txt')\n",
    "dmod4 = np.loadtxt('diff_com_800_7.txt')\n",
    "dmod5 = np.loadtxt('diff_com_1000_7.txt')\n",
    "\n",
    "dmop1 = np.loadtxt('diff_com_200_0.txt')\n",
    "dmop2 = np.loadtxt('diff_com_400_0.txt')\n",
    "dmop3 = np.loadtxt('diff_com_600_0.txt')\n",
    "dmop4 = np.loadtxt('diff_com_800_0.txt')\n",
    "dmop5 = np.loadtxt('diff_com_1000_0.txt')\n",
    "\n",
    "# Combine the data into a list\n",
    "data = [dmod1, dmod2, dmod3, dmod4, dmod5]\n",
    "data1 = [dmop1, dmop2, dmop3, dmop4, dmop5]\n",
    "\n",
    "means = []\n",
    "stds = []\n",
    "means1 = []\n",
    "stds1 = []\n",
    "\n",
    "for item in data:\n",
    "    mean_d = np.mean(item)\n",
    "    std_d = np.std(item)\n",
    "    means.append(mean_d)\n",
    "    stds.append(std_d)\n",
    "    \n",
    "for item1 in data1:\n",
    "    mean_d = np.mean(item1)\n",
    "    std_d = np.std(item1)\n",
    "    means1.append(mean_d)\n",
    "    stds1.append(std_d)\n",
    "\n",
    "x = [222.0, 420.0, 620.0, 812.0, 994.0]\n",
    "\n"
   ]
  },
  {
   "cell_type": "code",
   "execution_count": null,
   "id": "624194a5-e0d0-465c-beeb-5d5d6e04fde4",
   "metadata": {},
   "outputs": [],
   "source": []
  }
 ],
 "metadata": {
  "kernelspec": {
   "display_name": "Python 3 (ipykernel)",
   "language": "python",
   "name": "python3"
  },
  "language_info": {
   "codemirror_mode": {
    "name": "ipython",
    "version": 3
   },
   "file_extension": ".py",
   "mimetype": "text/x-python",
   "name": "python",
   "nbconvert_exporter": "python",
   "pygments_lexer": "ipython3",
   "version": "3.9.12"
  }
 },
 "nbformat": 4,
 "nbformat_minor": 5
}
