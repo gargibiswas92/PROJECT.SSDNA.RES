{
 "cells": [
  {
   "cell_type": "code",
   "execution_count": 1,
   "id": "097e24b5-f38f-4a26-9eee-757b7d0ca1ec",
   "metadata": {},
   "outputs": [],
   "source": [
    "import numpy as np\n",
    "import matplotlib.pyplot as plt\n",
    "\n",
    "data_el_2_0 = np.loadtxt('energy_electrostatics_200_00.txt', skiprows=1)\n",
    "data_el_4_0 = np.loadtxt('energy_electrostatics_400_00.txt', skiprows=1)\n",
    "data_el_6_0 = np.loadtxt('energy_electrostatics_600_00.txt', skiprows=1)\n",
    "data_el_8_0 = np.loadtxt('energy_electrostatics_800_00.txt', skiprows=1)\n",
    "data_el_10_0 = np.loadtxt('energy_electrostatics_1000_00.txt', skiprows=1)\n",
    "\n",
    "data_el_2_7 = np.loadtxt('energy_electrostatics_200_07.txt', skiprows=1)\n",
    "data_el_4_7 = np.loadtxt('energy_electrostatics_400_07.txt', skiprows=1)\n",
    "data_el_6_7 = np.loadtxt('energy_electrostatics_600_07.txt', skiprows=1)\n",
    "data_el_8_7 = np.loadtxt('energy_electrostatics_800_07.txt', skiprows=1)\n",
    "data_el_10_7 = np.loadtxt('energy_electrostatics_1000_07.txt', skiprows=1)\n",
    "\n",
    "data_st_2_0 = np.loadtxt('energy_stacking_200_00.txt', skiprows=1)\n",
    "data_st_4_0 = np.loadtxt('energy_stacking_400_00.txt', skiprows=1)\n",
    "data_st_6_0 = np.loadtxt('energy_stacking_600_00.txt', skiprows=1)\n",
    "data_st_8_0 = np.loadtxt('energy_stacking_800_00.txt', skiprows=1)\n",
    "data_st_10_0 = np.loadtxt('energy_stacking_1000_00.txt', skiprows=1)\n",
    "\n",
    "data_st_2_7 = np.loadtxt('energy_stacking_200_07.txt', skiprows=1)\n",
    "data_st_4_7 = np.loadtxt('energy_stacking_400_07.txt', skiprows=1)\n",
    "data_st_6_7 = np.loadtxt('energy_stacking_600_07.txt', skiprows=1)\n",
    "data_st_8_7 = np.loadtxt('energy_stacking_800_07.txt', skiprows=1)\n",
    "data_st_10_7 = np.loadtxt('energy_stacking_1000_07.txt', skiprows=1)\n"
   ]
  },
  {
   "cell_type": "code",
   "execution_count": 2,
   "id": "56318ec6-21de-436d-b19c-cd93b4ce1e33",
   "metadata": {},
   "outputs": [],
   "source": [
    "mean_el_2_0 = data_el_2_0[:,0]\n",
    "std_el_2_0 = data_el_2_0[:,1]\n",
    "\n",
    "mean_el_4_0 = data_el_4_0[:,0]\n",
    "std_el_4_0 = data_el_4_0[:,1]\n",
    "\n",
    "mean_el_6_0 = data_el_6_0[:,0]\n",
    "std_el_6_0 = data_el_6_0[:,1]\n",
    "\n",
    "mean_el_8_0 = data_el_8_0[:,0]\n",
    "std_el_8_0 = data_el_8_0[:,1]\n",
    "\n",
    "mean_el_10_0 = data_el_10_0[:,0]\n",
    "std_el_10_0 = data_el_10_0[:,1]"
   ]
  },
  {
   "cell_type": "code",
   "execution_count": 3,
   "id": "eaa511c6-3b39-4b27-8976-4cec1f099498",
   "metadata": {},
   "outputs": [],
   "source": [
    "mean_el_2_7 = data_el_2_7[:,0]\n",
    "std_el_2_7 = data_el_2_7[:,1]\n",
    "\n",
    "mean_el_4_7 = data_el_4_7[:,0]\n",
    "std_el_4_7 = data_el_4_7[:,1]\n",
    "\n",
    "mean_el_6_7 = data_el_6_7[:,0]\n",
    "std_el_6_7 = data_el_6_7[:,1]\n",
    "\n",
    "mean_el_8_7 = data_el_8_7[:,0]\n",
    "std_el_8_7 = data_el_8_7[:,1]\n",
    "\n",
    "mean_el_10_7 = data_el_10_7[:,0]\n",
    "std_el_10_7 = data_el_10_7[:,1]"
   ]
  },
  {
   "cell_type": "code",
   "execution_count": 4,
   "id": "c7f8cbb1-7de7-4268-87e6-9e8dd1fe58ab",
   "metadata": {},
   "outputs": [],
   "source": [
    "mean_st_2_0 = data_st_2_0[:,0]\n",
    "std_st_2_0 = data_st_2_0[:,1]\n",
    "\n",
    "mean_st_4_0 = data_st_4_0[:,0]\n",
    "std_st_4_0 = data_st_4_0[:,1]\n",
    "\n",
    "mean_st_6_0 = data_st_6_0[:,0]\n",
    "std_st_6_0 = data_st_6_0[:,1]\n",
    "\n",
    "mean_st_8_0 = data_st_8_0[:,0]\n",
    "std_st_8_0 = data_st_8_0[:,1]\n",
    "\n",
    "mean_st_10_0 = data_st_10_0[:,0]\n",
    "std_st_10_0 = data_st_10_0[:,1]"
   ]
  },
  {
   "cell_type": "code",
   "execution_count": 5,
   "id": "d7d1cf37-941d-4a70-a5d7-088c04c01672",
   "metadata": {},
   "outputs": [],
   "source": [
    "mean_st_2_7 = data_st_2_7[:,0]\n",
    "std_st_2_7 = data_st_2_7[:,1]\n",
    "\n",
    "mean_st_4_7 = data_st_4_7[:,0]\n",
    "std_st_4_7 = data_st_4_7[:,1]\n",
    "\n",
    "mean_st_6_7 = data_st_6_7[:,0]\n",
    "std_st_6_7 = data_st_6_7[:,1]\n",
    "\n",
    "mean_st_8_7 = data_st_8_7[:,0]\n",
    "std_st_8_7 = data_st_8_7[:,1]\n",
    "\n",
    "mean_st_10_7 = data_st_10_7[:,0]\n",
    "std_st_10_7 = data_st_10_7[:,1]"
   ]
  },
  {
   "cell_type": "code",
   "execution_count": 6,
   "id": "f6f77352-2215-4b3a-817a-0583599d6922",
   "metadata": {},
   "outputs": [],
   "source": [
    "mean_st_7 = [mean_st_2_7, mean_st_4_7, mean_st_6_7, mean_st_8_7, mean_st_10_7]\n",
    "mean_st_0 = [mean_st_2_0, mean_st_4_0, mean_st_6_0, mean_st_8_0, mean_st_10_0]\n",
    "mean_el_7 = [mean_el_2_7, mean_el_4_7, mean_el_6_7, mean_el_8_7, mean_el_10_7]\n",
    "mean_el_0 = [mean_el_2_0, mean_el_4_0, mean_el_6_0, mean_el_8_0, mean_el_10_0]\n",
    "\n",
    "std_st_7 = [std_st_2_7, std_st_4_7, std_st_6_7, std_st_8_7, std_st_10_7]\n",
    "std_st_0 = [std_st_2_0, std_st_4_0, std_st_6_0, std_st_8_0, std_st_10_0]\n",
    "std_el_7 = [std_el_2_7, std_el_4_7, std_el_6_7, std_el_8_7, std_el_10_7]\n",
    "std_el_0 = [std_el_2_0, std_el_4_0, std_el_6_0, std_el_8_0, std_el_10_0]"
   ]
  },
  {
   "cell_type": "code",
   "execution_count": 7,
   "id": "0e304e8d-50a8-4901-a404-a13408d7a4bc",
   "metadata": {},
   "outputs": [],
   "source": [
    "mean_st_07 = np.array([np.mean(mean_st_2_7), np.mean(mean_st_4_7), np.mean(mean_st_6_7), np.mean(mean_st_8_7), np.mean(mean_st_10_7)])\n",
    "mean_el_07 = np.array([np.mean(mean_el_2_7), np.mean(mean_el_4_7), np.mean(mean_el_6_7), np.mean(mean_el_8_7), np.mean(mean_el_10_7)])\n",
    "\n",
    "mean_st_00 = np.array([np.mean(mean_st_2_0), np.mean(mean_st_4_0), np.mean(mean_st_6_0), np.mean(mean_st_8_0), np.mean(mean_st_10_0)])\n",
    "mean_el_00 = np.array([np.mean(mean_el_2_0), np.mean(mean_el_4_0), np.mean(mean_el_6_0), np.mean(mean_el_8_0), np.mean(mean_el_10_0)])\n",
    "\n",
    "std_st_07 = np.array([np.mean(std_st_2_7), np.mean(std_st_4_7), np.mean(std_st_6_7), np.mean(std_st_8_7), np.mean(std_st_10_7)])\n",
    "std_el_07 = np.array([np.mean(std_el_2_7), np.mean(std_el_4_7), np.mean(std_el_6_7), np.mean(std_el_8_7), np.mean(std_el_10_7)])\n",
    "\n",
    "std_st_00 = np.array([np.mean(std_st_2_0), np.mean(std_st_4_0), np.mean(std_st_6_0), np.mean(std_st_8_0), np.mean(std_st_10_0)])\n",
    "std_el_00 = np.array([np.mean(std_el_2_0), np.mean(std_el_4_0), np.mean(std_el_6_0), np.mean(std_el_8_0), np.mean(std_el_10_0)])"
   ]
  },
  {
   "cell_type": "code",
   "execution_count": 8,
   "id": "bfb889ae-1531-456f-a2b9-18932a6cc868",
   "metadata": {},
   "outputs": [
    {
     "data": {
      "text/plain": [
       "(array([-25., -20., -15., -10.,  -5.,   0.]),\n",
       " [Text(0, -25.0, '−25'),\n",
       "  Text(0, -20.0, '−20'),\n",
       "  Text(0, -15.0, '−15'),\n",
       "  Text(0, -10.0, '−10'),\n",
       "  Text(0, -5.0, '−5'),\n",
       "  Text(0, 0.0, '0')])"
      ]
     },
     "execution_count": 8,
     "metadata": {},
     "output_type": "execute_result"
    },
    {
     "data": {
      "image/png": "[encoded data removed]",
      "text/plain": [
       "<Figure size 432x288 with 1 Axes>"
      ]
     },
     "metadata": {
      "needs_background": "light"
     },
     "output_type": "display_data"
    }
   ],
   "source": [
    "x1 = np.arange(5)\n",
    "\n",
    "plt.bar(x1+0.00, mean_st_07, yerr= std_st_07, capsize= 6, color ='turquoise', width = 0.25, label=\"30 mM\")\n",
    "plt.bar(x1+0.25, mean_st_00, yerr= std_st_00, capsize=6, color ='mediumorchid', width = 0.25, label=\"1000 mM\")\n",
    "plt.xticks(x1+0.125, ['222', '420', '620', '812', '994'])\n",
    "\n",
    "ax = plt.gca()\n",
    "ax.invert_yaxis()\n",
    "plt.legend(fontsize=16, loc='upper right')\n",
    "plt.ylabel('Average Energy (kcal/mol)', fontsize=16)\n",
    "plt.xlabel('End-to-end distance (Å)', fontsize=18)\n",
    "plt.ylim(0, -25)\n",
    "plt.xticks(fontsize=14)\n",
    "plt.yticks(fontsize=14)\n",
    "#plt.savefig('line_plot.png', dpi=300, bbox_inches='tight')"
   ]
  },
  {
   "cell_type": "code",
   "execution_count": 11,
   "id": "f5644bc1-c833-4c74-8e61-61a88d0bd6c9",
   "metadata": {},
   "outputs": [
    {
     "data": {
      "text/plain": [
       "(array([-8., -7., -6., -5., -4., -3., -2., -1.,  0.]),\n",
       " [Text(0, -8.0, '−8'),\n",
       "  Text(0, -7.0, '−7'),\n",
       "  Text(0, -6.0, '−6'),\n",
       "  Text(0, -5.0, '−5'),\n",
       "  Text(0, -4.0, '−4'),\n",
       "  Text(0, -3.0, '−3'),\n",
       "  Text(0, -2.0, '−2'),\n",
       "  Text(0, -1.0, '−1'),\n",
       "  Text(0, 0.0, '0')])"
      ]
     },
     "execution_count": 11,
     "metadata": {},
     "output_type": "execute_result"
    },
    {
     "data": {
      "image/png": "[encoded data removed]",
      "text/plain": [
       "<Figure size 432x288 with 1 Axes>"
      ]
     },
     "metadata": {
      "needs_background": "light"
     },
     "output_type": "display_data"
    }
   ],
   "source": [
    "plt.bar(x1+0.00, mean_el_07, yerr= std_el_07, capsize= 6, color ='turquoise', width = 0.25, label=\"10 mM\")\n",
    "plt.bar(x1+0.25, mean_el_00, yerr= std_el_00, capsize=6, color ='mediumorchid', width = 0.25, label=\"300 mM\")\n",
    "plt.xticks(x1+0.125, ['222', '420', '620', '812', '994'])\n",
    "\n",
    "ax = plt.gca()\n",
    "ax.invert_yaxis()\n",
    "plt.legend(fontsize=16, loc='upper right')\n",
    "plt.ylabel('Average Energy (kcal/mol)', fontsize=16)\n",
    "plt.xlabel('End-to-end distance (Å)', fontsize=18)\n",
    "#plt.ylim(0, -25)\n",
    "plt.xticks(fontsize=14)\n",
    "plt.yticks(fontsize=14)"
   ]
  },
  {
   "cell_type": "code",
   "execution_count": 12,
   "id": "7c0bcc38-cdab-4416-a563-2aa152a6583a",
   "metadata": {},
   "outputs": [],
   "source": [
    "tot_mean_07 = mean_st_07 + mean_el_07\n",
    "tot_std_07 = (std_st_07+std_el_07)/2\n",
    "\n",
    "tot_mean_00 = mean_st_00 + mean_el_00\n",
    "tot_std_00 = (std_st_00+std_el_00)/2"
   ]
  },
  {
   "cell_type": "code",
   "execution_count": 13,
   "id": "542b9af0-6331-40f7-ba38-02dca7ae8172",
   "metadata": {},
   "outputs": [
    {
     "data": {
      "image/png": "[encoded data removed]",
      "text/plain": [
       "<Figure size 432x288 with 1 Axes>"
      ]
     },
     "metadata": {
      "needs_background": "light"
     },
     "output_type": "display_data"
    }
   ],
   "source": [
    "plt.bar(x1+0.00, tot_mean_07, yerr= tot_std_07, capsize= 6, color ='turquoise', width = 0.25, label=\"30 mM\", edgecolor='black')\n",
    "plt.bar(x1+0.25, tot_mean_00, yerr= tot_std_00, capsize=6, color ='mediumorchid', width = 0.25, label=\"1000 mM\", edgecolor='black')\n",
    "plt.xticks(x1+0.125, ['222', '420', '620', '812', '994'])\n",
    "\n",
    "ax = plt.gca()\n",
    "ax.invert_yaxis()\n",
    "plt.legend(fontsize=16, loc='upper right')\n",
    "plt.ylabel('Interaction Energy \\n(kcal/mol)', fontsize=18)\n",
    "plt.xlabel('End-to-end distance (Å)', fontsize=18)\n",
    "plt.ylim(0, -30)\n",
    "plt.xticks(fontsize=14)\n",
    "plt.yticks(fontsize=14)\n",
    "plt.savefig('int_energy.png', dpi=300, bbox_inches='tight')"
   ]
  },
  {
   "cell_type": "code",
   "execution_count": null,
   "id": "50d04aef-e3c9-4bb6-bec5-22facf9edb2d",
   "metadata": {},
   "outputs": [],
   "source": []
  }
 ],
 "metadata": {
  "kernelspec": {
   "display_name": "Python 3 (ipykernel)",
   "language": "python",
   "name": "python3"
  },
  "language_info": {
   "codemirror_mode": {
    "name": "ipython",
    "version": 3
   },
   "file_extension": ".py",
   "mimetype": "text/x-python",
   "name": "python",
   "nbconvert_exporter": "python",
   "pygments_lexer": "ipython3",
   "version": "3.9.12"
  }
 },
 "nbformat": 4,
 "nbformat_minor": 5
}
